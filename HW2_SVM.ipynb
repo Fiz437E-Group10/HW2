{
 "cells": [
  {
   "cell_type": "code",
   "execution_count": 1,
   "metadata": {},
   "outputs": [],
   "source": [
    "import torch\n",
    "import torch.nn as nn\n",
    "import torchvision\n",
    "import torchvision.transforms as transforms\n",
    "import matplotlib.pyplot as plt\n"
   ]
  },
  {
   "cell_type": "code",
   "execution_count": 9,
   "metadata": {},
   "outputs": [],
   "source": [
    "from torch.autograd import Variable\n",
    "from torchvision import datasets, transforms, utils\n",
    "from torch.utils.data.sampler import SubsetRandomSampler\n",
    "from torch.nn import functional as F"
   ]
  },
  {
   "cell_type": "code",
   "execution_count": 10,
   "metadata": {},
   "outputs": [],
   "source": [
    "\n",
    "batch_size = 64\n",
    "epochs = 10\n",
    "input_dim = 784\n",
    "output_dim = 10\n",
    "lr_rate = 0.0001\n",
    "momentum = 0.0 \n"
   ]
  },
  {
   "cell_type": "code",
   "execution_count": 11,
   "metadata": {},
   "outputs": [],
   "source": [
    "# SVMModel\n",
    "svm_model = nn.Linear(input_dim,output_dim)"
   ]
  },
  {
   "cell_type": "code",
   "execution_count": 17,
   "metadata": {},
   "outputs": [],
   "source": [
    "train_data = torchvision.datasets.MNIST(root='../../data', \n",
    "                                           train=True, \n",
    "                                           transform=transforms.ToTensor(),\n",
    "                                           download=True)\n",
    "                   \n",
    "test_data = torchvision.datasets.MNIST(root='../../data', \n",
    "                                          train=False, \n",
    "                                          transform=transforms.ToTensor())\n",
    "\n",
    "subset_indices = ((train_data.train_labels == 0) + (train_data.train_labels == 1)).nonzero().view(-1)\n",
    "train_loader = torch.utils.data.DataLoader(dataset=train_data, \n",
    "                                           batch_size=batch_size, \n",
    "                                           shuffle=False,\n",
    "                                           sampler=SubsetRandomSampler(subset_indices))\n",
    "\n",
    "subset_indices = ((test_data.test_labels == 0) + (test_data.test_labels == 1)).nonzero().view(-1)\n",
    "test_loader = torch.utils.data.DataLoader(dataset=test_data, \n",
    "                                          batch_size=batch_size,\n",
    "                                          shuffle=False,\n",
    "                                          sampler=SubsetRandomSampler(subset_indices))"
   ]
  },
  {
   "cell_type": "code",
   "execution_count": 18,
   "metadata": {},
   "outputs": [],
   "source": [
    "\n",
    "svm_loss_criteria = SVM_Loss()\n",
    "svm_optimizer = torch.optim.SGD(svm_model.parameters(), lr=lr_rate, momentum=momentum)"
   ]
  },
  {
   "cell_type": "code",
   "execution_count": 19,
   "metadata": {},
   "outputs": [],
   "source": [
    "# Train the Model\n",
    "total_step = len(train_loader)\n",
    "for epoch in range(epochs):\n",
    "    avg_loss_epoch = 0\n",
    "    batch_loss = 0\n",
    "    total_batches = 0\n",
    "    for i, (images, labels) in enumerate(train_loader):\n",
    "        images = images.reshape(-1, 28*28)                      \n",
    "        labels = Variable(2*(labels.float()-0.5))   \n",
    "        outputs = svm_model(images)           \n",
    "        loss_svm = svm_loss_criteria(outputs, labels)    \n",
    "        svm_optimizer.zero_grad()\n",
    "        loss_svm.backward()\n",
    "        svm_optimizer.step()    \n",
    "        \n",
    "        \n",
    "        total_batches += 1     \n",
    "        batch_loss += loss_svm.item()\n",
    "\n",
    "    avg_loss_epoch = batch_loss/total_batches\n",
    "    print ('Epoch [{}/{}], Averge Loss:for epoch[{}, {:.4f}]' \n",
    "                   .format(epoch+1, epochs, epoch+1, avg_loss_epoch ))\n",
    "        \n",
    "\n",
    "# Calculate Accuracy\n",
    "correct = 0.\n",
    "total = 0.\n",
    "for images, labels in test_loader:\n",
    "    images = images.reshape(-1, 28*28)\n",
    "    \n",
    "    outputs = svm_model(images)    \n",
    "    predicted = outputs.data >= 0\n",
    "    total += labels.size(0) \n",
    "    correct += (predicted.view(-1).long() == labels).sum()  "
   ]
  },
  {
   "cell_type": "code",
   "execution_count": 20,
   "metadata": {},
   "outputs": [],
   "source": [
    "print(\"lr_rate \", lr_rate)\n",
    "print( \"momentum\", momentum)"
   ]
  },
  {
   "cell_type": "code",
   "execution_count": 21,
   "metadata": {},
   "outputs": [],
   "source": []
  },
  {
   "cell_type": "code",
   "execution_count": 22,
   "metadata": {},
   "outputs": [],
   "source": []
  }
 ],
 "metadata": {
  "kernelspec": {
   "display_name": "Python 3",
   "language": "python",
   "name": "python3"
  },
  "language_info": {
   "codemirror_mode": {
    "name": "ipython",
    "version": 3
   },
   "file_extension": ".py",
   "mimetype": "text/x-python",
   "name": "python",
   "nbconvert_exporter": "python",
   "pygments_lexer": "ipython3",
   "version": "3.8.3"
  }
 },
 "nbformat": 4,
 "nbformat_minor": 5
}
